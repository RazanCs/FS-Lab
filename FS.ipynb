{
 "cells": [
  {
   "cell_type": "code",
   "execution_count": 1,
   "id": "7dd85a95",
   "metadata": {},
   "outputs": [],
   "source": [
    "import pandas as pd \n",
    "import numpy as np\n",
    "import category_encoders as ce"
   ]
  },
  {
   "cell_type": "markdown",
   "id": "aedd28af",
   "metadata": {},
   "source": [
    "# Q1: Apply Ordinal encoding."
   ]
  },
  {
   "cell_type": "code",
   "execution_count": 2,
   "id": "a4b7a94a",
   "metadata": {},
   "outputs": [],
   "source": [
    "import category_encoders as ce"
   ]
  },
  {
   "cell_type": "code",
   "execution_count": 14,
   "id": "114bc462",
   "metadata": {},
   "outputs": [
    {
     "data": {
      "text/html": [
       "<div>\n",
       "<style scoped>\n",
       "    .dataframe tbody tr th:only-of-type {\n",
       "        vertical-align: middle;\n",
       "    }\n",
       "\n",
       "    .dataframe tbody tr th {\n",
       "        vertical-align: top;\n",
       "    }\n",
       "\n",
       "    .dataframe thead th {\n",
       "        text-align: right;\n",
       "    }\n",
       "</style>\n",
       "<table border=\"1\" class=\"dataframe\">\n",
       "  <thead>\n",
       "    <tr style=\"text-align: right;\">\n",
       "      <th></th>\n",
       "      <th>height</th>\n",
       "    </tr>\n",
       "  </thead>\n",
       "  <tbody>\n",
       "    <tr>\n",
       "      <th>0</th>\n",
       "      <td>tall</td>\n",
       "    </tr>\n",
       "    <tr>\n",
       "      <th>1</th>\n",
       "      <td>medium</td>\n",
       "    </tr>\n",
       "    <tr>\n",
       "      <th>2</th>\n",
       "      <td>short</td>\n",
       "    </tr>\n",
       "    <tr>\n",
       "      <th>3</th>\n",
       "      <td>tall</td>\n",
       "    </tr>\n",
       "    <tr>\n",
       "      <th>4</th>\n",
       "      <td>medium</td>\n",
       "    </tr>\n",
       "    <tr>\n",
       "      <th>5</th>\n",
       "      <td>short</td>\n",
       "    </tr>\n",
       "    <tr>\n",
       "      <th>6</th>\n",
       "      <td>tall</td>\n",
       "    </tr>\n",
       "    <tr>\n",
       "      <th>7</th>\n",
       "      <td>medium</td>\n",
       "    </tr>\n",
       "    <tr>\n",
       "      <th>8</th>\n",
       "      <td>short</td>\n",
       "    </tr>\n",
       "  </tbody>\n",
       "</table>\n",
       "</div>"
      ],
      "text/plain": [
       "   height\n",
       "0    tall\n",
       "1  medium\n",
       "2   short\n",
       "3    tall\n",
       "4  medium\n",
       "5   short\n",
       "6    tall\n",
       "7  medium\n",
       "8   short"
      ]
     },
     "execution_count": 14,
     "metadata": {},
     "output_type": "execute_result"
    }
   ],
   "source": [
    "df=pd.DataFrame({'height':['tall','medium','short','tall','medium','short','tall','medium','short',]})\n",
    "df"
   ]
  },
  {
   "cell_type": "code",
   "execution_count": 15,
   "id": "103694d0",
   "metadata": {},
   "outputs": [
    {
     "name": "stdout",
     "output_type": "stream",
     "text": [
      "   height  transformed\n",
      "0    tall            1\n",
      "1  medium            2\n",
      "2   short            3\n",
      "3    tall            1\n",
      "4  medium            2\n",
      "5   short            3\n",
      "6    tall            1\n",
      "7  medium            2\n",
      "8   short            3\n"
     ]
    }
   ],
   "source": [
    "encoder= ce.OrdinalEncoder(cols=['height'],return_df=True,\n",
    "                           mapping=[{'col':'height',\n",
    "'mapping':{'None':0,'tall':1,'medium':2,'short':3}}])\n",
    "\n",
    "\n",
    "df['transformed'] = encoder.fit_transform(df)\n",
    "\n",
    "print(df)"
   ]
  },
  {
   "cell_type": "markdown",
   "id": "811de40c",
   "metadata": {},
   "source": [
    "# Q2: Apply One hot encoding."
   ]
  },
  {
   "cell_type": "code",
   "execution_count": 16,
   "id": "47b3cd25",
   "metadata": {},
   "outputs": [
    {
     "name": "stdout",
     "output_type": "stream",
     "text": [
      "   transformed  height_medium  height_short  height_tall\n",
      "0            1              0             0            1\n",
      "1            2              1             0            0\n",
      "2            3              0             1            0\n",
      "3            1              0             0            1\n",
      "4            2              1             0            0\n",
      "5            3              0             1            0\n",
      "6            1              0             0            1\n",
      "7            2              1             0            0\n",
      "8            3              0             1            0\n"
     ]
    }
   ],
   "source": [
    "print(pd.get_dummies(df))"
   ]
  },
  {
   "cell_type": "markdown",
   "id": "0e623a63",
   "metadata": {},
   "source": [
    "# Q3: Apply Frequency Encoding. "
   ]
  },
  {
   "cell_type": "code",
   "execution_count": 17,
   "id": "7e43b549",
   "metadata": {},
   "outputs": [
    {
     "data": {
      "text/plain": [
       "height\n",
       "medium    3\n",
       "short     3\n",
       "tall      3\n",
       "dtype: int64"
      ]
     },
     "execution_count": 17,
     "metadata": {},
     "output_type": "execute_result"
    }
   ],
   "source": [
    "fe=df.groupby('height').size()\n",
    "fe"
   ]
  },
  {
   "cell_type": "markdown",
   "id": "2bd30d8c",
   "metadata": {},
   "source": [
    "# Q4: Apply Binary Encoding. "
   ]
  },
  {
   "cell_type": "code",
   "execution_count": 18,
   "id": "dd5f4904",
   "metadata": {},
   "outputs": [
    {
     "data": {
      "text/html": [
       "<div>\n",
       "<style scoped>\n",
       "    .dataframe tbody tr th:only-of-type {\n",
       "        vertical-align: middle;\n",
       "    }\n",
       "\n",
       "    .dataframe tbody tr th {\n",
       "        vertical-align: top;\n",
       "    }\n",
       "\n",
       "    .dataframe thead th {\n",
       "        text-align: right;\n",
       "    }\n",
       "</style>\n",
       "<table border=\"1\" class=\"dataframe\">\n",
       "  <thead>\n",
       "    <tr style=\"text-align: right;\">\n",
       "      <th></th>\n",
       "      <th>height</th>\n",
       "      <th>transformed</th>\n",
       "      <th>height_0</th>\n",
       "      <th>height_1</th>\n",
       "    </tr>\n",
       "  </thead>\n",
       "  <tbody>\n",
       "    <tr>\n",
       "      <th>0</th>\n",
       "      <td>tall</td>\n",
       "      <td>1</td>\n",
       "      <td>0</td>\n",
       "      <td>1</td>\n",
       "    </tr>\n",
       "    <tr>\n",
       "      <th>1</th>\n",
       "      <td>medium</td>\n",
       "      <td>2</td>\n",
       "      <td>1</td>\n",
       "      <td>0</td>\n",
       "    </tr>\n",
       "    <tr>\n",
       "      <th>2</th>\n",
       "      <td>short</td>\n",
       "      <td>3</td>\n",
       "      <td>1</td>\n",
       "      <td>1</td>\n",
       "    </tr>\n",
       "    <tr>\n",
       "      <th>3</th>\n",
       "      <td>tall</td>\n",
       "      <td>1</td>\n",
       "      <td>0</td>\n",
       "      <td>1</td>\n",
       "    </tr>\n",
       "    <tr>\n",
       "      <th>4</th>\n",
       "      <td>medium</td>\n",
       "      <td>2</td>\n",
       "      <td>1</td>\n",
       "      <td>0</td>\n",
       "    </tr>\n",
       "    <tr>\n",
       "      <th>5</th>\n",
       "      <td>short</td>\n",
       "      <td>3</td>\n",
       "      <td>1</td>\n",
       "      <td>1</td>\n",
       "    </tr>\n",
       "    <tr>\n",
       "      <th>6</th>\n",
       "      <td>tall</td>\n",
       "      <td>1</td>\n",
       "      <td>0</td>\n",
       "      <td>1</td>\n",
       "    </tr>\n",
       "    <tr>\n",
       "      <th>7</th>\n",
       "      <td>medium</td>\n",
       "      <td>2</td>\n",
       "      <td>1</td>\n",
       "      <td>0</td>\n",
       "    </tr>\n",
       "    <tr>\n",
       "      <th>8</th>\n",
       "      <td>short</td>\n",
       "      <td>3</td>\n",
       "      <td>1</td>\n",
       "      <td>1</td>\n",
       "    </tr>\n",
       "  </tbody>\n",
       "</table>\n",
       "</div>"
      ],
      "text/plain": [
       "   height  transformed  height_0  height_1\n",
       "0    tall            1         0         1\n",
       "1  medium            2         1         0\n",
       "2   short            3         1         1\n",
       "3    tall            1         0         1\n",
       "4  medium            2         1         0\n",
       "5   short            3         1         1\n",
       "6    tall            1         0         1\n",
       "7  medium            2         1         0\n",
       "8   short            3         1         1"
      ]
     },
     "execution_count": 18,
     "metadata": {},
     "output_type": "execute_result"
    }
   ],
   "source": [
    "encoder=ce.BinaryEncoder(cols=['height'])\n",
    "dfbin=encoder.fit_transform(df['height'])\n",
    "d=pd.concat([df,dfbin],axis=1)\n",
    "d"
   ]
  }
 ],
 "metadata": {
  "kernelspec": {
   "display_name": "Python 3 (ipykernel)",
   "language": "python",
   "name": "python3"
  },
  "language_info": {
   "codemirror_mode": {
    "name": "ipython",
    "version": 3
   },
   "file_extension": ".py",
   "mimetype": "text/x-python",
   "name": "python",
   "nbconvert_exporter": "python",
   "pygments_lexer": "ipython3",
   "version": "3.9.12"
  }
 },
 "nbformat": 4,
 "nbformat_minor": 5
}
